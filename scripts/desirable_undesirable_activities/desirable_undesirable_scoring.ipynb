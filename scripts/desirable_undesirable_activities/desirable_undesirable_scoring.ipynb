{
 "cells": [
  {
   "cell_type": "code",
   "execution_count": 10,
   "metadata": {},
   "outputs": [],
   "source": [
    "import pandas as pd\n",
    "import geopandas as gpd\n",
    "from shapely.geometry import Point\n",
    "from geopy.distance import geodesic\n",
    "import requests\n",
    "import math"
   ]
  },
  {
   "cell_type": "markdown",
   "metadata": {},
   "source": [
    "### Helper Function"
   ]
  },
  {
   "cell_type": "code",
   "execution_count": 2,
   "metadata": {},
   "outputs": [],
   "source": [
    "def haversine(lat1, lon1, lat2, lon2):\n",
    "    \"\"\"\n",
    "    Calculate the great circle distance between two points\n",
    "    on the earth (specified in decimal degrees).\n",
    "    Returns the distance in miles.\n",
    "    \"\"\"\n",
    "    R = 3958.8  \n",
    "    phi1 = math.radians(lat1)\n",
    "    phi2 = math.radians(lat2)\n",
    "    dphi = math.radians(lat2 - lat1)\n",
    "    dlambda = math.radians(lon2 - lon1)\n",
    "    a = math.sin(dphi / 2)**2 + math.cos(phi1) * math.cos(phi2) * math.sin(dlambda / 2)**2\n",
    "    c = 2 * math.atan2(math.sqrt(a), math.sqrt(1 - a))\n",
    "    distance = R * c\n",
    "    return distance"
   ]
  },
  {
   "cell_type": "markdown",
   "metadata": {},
   "source": [
    "### Compute desirable score"
   ]
  },
  {
   "cell_type": "code",
   "execution_count": null,
   "metadata": {},
   "outputs": [],
   "source": [
    "def compute_score(distance, group, is_rural):\n",
    "    \n",
    "    points = 0.0\n",
    "    if group == 1:\n",
    "        if distance <= 0.5:\n",
    "            points = 2.5\n",
    "        elif distance <= 1:\n",
    "            points = 2.0\n",
    "        elif (not is_rural) and distance <= 1.5:\n",
    "            points = 1.5\n",
    "        elif is_rural and distance <= 2.5:\n",
    "            points = 2.5\n",
    "    elif group == 2:\n",
    "        if distance <= 0.5:\n",
    "            points = 2.0\n",
    "        elif distance <= 1:\n",
    "            points = 1.5\n",
    "        elif (not is_rural) and distance <= 1.5:\n",
    "            points = 1.0\n",
    "        elif is_rural and distance <= 2.5:\n",
    "            points = 1.0\n",
    "    return points"
   ]
  },
  {
   "cell_type": "code",
   "execution_count": null,
   "metadata": {},
   "outputs": [],
   "source": [
    "def compute_desirable_score(lihtc_lat, lihtc_lon, is_rural, csv_file):\n",
    "\n",
    "    df = pd.read_csv(csv_file)\n",
    "\n",
    "    # Define the mapping of amenity names to their scoring groups.\n",
    "    amenity_groups = {\n",
    "        \"national_big_box_store\": 1,\n",
    "        \"retail_store\": 2,\n",
    "        \"grocery_store\": 1,\n",
    "        \"restaurant\": 2,\n",
    "        \"hospital\": 1,\n",
    "        \"medical_clinic\": 1,\n",
    "        \"pharmacy\": 1,\n",
    "        \"technical_college\": 2,\n",
    "        \"school\": 1,  \n",
    "        \"town_square\": 1,\n",
    "        \"public_park\": 1,\n",
    "        \"library\": 1,\n",
    "        \"fire_police_station\": 2,\n",
    "        \"police station\": 2,\n",
    "        \"bank\": 2,\n",
    "        \"place_of_worship\": 2,\n",
    "        \"post_office\": 2\n",
    "    }\n",
    "\n",
    "    total_score = 0.0\n",
    "    scores = {}  \n",
    "\n",
    "    # Loop through each desirable amenity type\n",
    "    for amenity, group in amenity_groups.items():\n",
    "        # Filter to rows matching this amenity.\n",
    "        df_subset = df[df['amenity_key'].str.lower() == amenity.lower()]\n",
    "        if df_subset.empty:\n",
    "            continue\n",
    "\n",
    "        # Compute the distance for each record in the subset from the LIHTC development site.\n",
    "        df_subset = df_subset.copy()  # avoid SettingWithCopy warnings\n",
    "        df_subset['distance'] = df_subset.apply(\n",
    "            lambda row: haversine(lihtc_lat, lihtc_lon, row['lat'], row['lon']),\n",
    "            axis=1\n",
    "        )\n",
    "\n",
    "        # Find the nearest amenity of this type (minimum distance)\n",
    "        min_distance = df_subset['distance'].min()\n",
    "\n",
    "        # Compute the score for this amenity based on the computed distance.\n",
    "        points = compute_score(min_distance, group, is_rural)\n",
    "        scores[amenity] = {\"distance\": min_distance, \"points\": points}\n",
    "        total_score += points\n",
    "\n",
    "    return total_score, scores\n"
   ]
  },
  {
   "cell_type": "code",
   "execution_count": null,
   "metadata": {},
   "outputs": [
    {
     "name": "stdout",
     "output_type": "stream",
     "text": [
      "Total Desirable Activities Score: 24.0\n",
      "Individual Amenity Details:\n",
      " - National_Big_Box_Store: 1.98 miles, 0.0 points\n",
      " - Retail_Store: 0.49 miles, 2.0 points\n",
      " - Grocery_Store: 2.23 miles, 0.0 points\n",
      " - Restaurant: 0.52 miles, 1.5 points\n",
      " - Hospital: 0.56 miles, 2.0 points\n",
      " - Medical_Clinic: 2.86 miles, 0.0 points\n",
      " - Pharmacy: 0.48 miles, 2.5 points\n",
      " - Technical_College: 0.35 miles, 2.0 points\n",
      " - School: 0.79 miles, 2.0 points\n",
      " - Town_Square: 0.84 miles, 2.0 points\n",
      " - Public_Park: 0.32 miles, 2.5 points\n",
      " - Library: 0.43 miles, 2.5 points\n",
      " - Fire_Police_Station: 0.50 miles, 1.5 points\n",
      " - Bank: 0.49 miles, 2.0 points\n",
      " - Place_Of_Worship: 2.35 miles, 0.0 points\n",
      " - Post_Office: 0.50 miles, 1.5 points\n"
     ]
    }
   ],
   "source": [
    "if __name__ == \"__main__\":\n",
    "\n",
    "    lihtc_lat = 32.84693   \n",
    "    lihtc_lon = -83.63868 \n",
    "    is_rural = False\n",
    "\n",
    "    csv_file = \"../../data/processed/scoring_indicators/desirable_activities_google_places.csv\"\n",
    "\n",
    "    total_score, amenity_details = compute_desirable_score(lihtc_lat, lihtc_lon, is_rural, csv_file)\n",
    "    print(\"Total Desirable Activities Score:\", total_score)\n",
    "    print(\"Individual Amenity Details:\")\n",
    "    for amenity, details in amenity_details.items():\n",
    "        print(f\" - {amenity.title()}: {details['distance']:.2f} miles, {details['points']} points\")"
   ]
  },
  {
   "cell_type": "markdown",
   "metadata": {},
   "source": [
    "### Compute undesirable score"
   ]
  },
  {
   "cell_type": "code",
   "execution_count": null,
   "metadata": {},
   "outputs": [],
   "source": []
  }
 ],
 "metadata": {
  "kernelspec": {
   "display_name": "base",
   "language": "python",
   "name": "python3"
  },
  "language_info": {
   "codemirror_mode": {
    "name": "ipython",
    "version": 3
   },
   "file_extension": ".py",
   "mimetype": "text/x-python",
   "name": "python",
   "nbconvert_exporter": "python",
   "pygments_lexer": "ipython3",
   "version": "3.12.7"
  }
 },
 "nbformat": 4,
 "nbformat_minor": 2
}
