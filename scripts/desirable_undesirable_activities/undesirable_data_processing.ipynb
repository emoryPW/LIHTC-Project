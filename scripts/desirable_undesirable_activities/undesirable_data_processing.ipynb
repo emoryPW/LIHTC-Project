{
 "cells": [
  {
   "cell_type": "code",
   "execution_count": 16,
   "metadata": {},
   "outputs": [],
   "source": [
    "import pandas as pd\n",
    "import geopandas as gpd\n",
    "from shapely.geometry import Point\n",
    "from geopy.distance import geodesic\n",
    "import googlemaps\n",
    "import requests\n",
    "import time\n"
   ]
  },
  {
   "cell_type": "code",
   "execution_count": 17,
   "metadata": {},
   "outputs": [
    {
     "name": "stderr",
     "output_type": "stream",
     "text": [
      "/var/folders/w2/jx7kgvv14cx4km6tl2rymsmw0000gn/T/ipykernel_38777/1239302007.py:18: DtypeWarning: Columns (11) have mixed types. Specify dtype option on import or set low_memory=False.\n",
      "  df_frs = pd.read_csv(\"../../data/preprocessed/scoring_indicators/frs_facilities_naics_sic.csv\")\n"
     ]
    }
   ],
   "source": [
    "# Import datasets \n",
    "\n",
    "# HSI (Hazardous Site Inventory) contains a list of contaminated sites in Georgia that need to be cleaned up\n",
    "# Use to identify contaminated sites in Georgia (includes landfills, superfund)\n",
    "df_hsi = pd.read_excel(\"../../data/raw/scoring_indicators/July-2024-Hazardous-Site-Inventory.xlsx\")\n",
    "\n",
    "# TRI (Toxic Release Inventory) contains how much toxic chemicals are released into the environment\n",
    "# Use to identify sites in Georgia that release toxic chemicals\n",
    "df_tri = pd.read_csv(\"../../data/raw/scoring_indicators/waste_hazardous_chemicals.csv\")\n",
    "\n",
    "\n",
    "# Food Access Research Atlas contains information on food access in Georgia\n",
    "# Use to identify food deserts in Georgia\n",
    "df_food_deserts = pd.read_csv(\"../../data/raw/scoring_indicators/food_access_research_atlas.csv\")\n",
    "\n",
    "df_cdr = pd.read_csv(\"../../data/preprocessed/scoring_indicators/DesirableUndesirableActivities/cdr_industrial_manufacturing_facilities.csv\")\n",
    "\n",
    "df_frs = pd.read_csv(\"../../data/preprocessed/scoring_indicators/DesirableUndesirableActivities/frs_facilities_naics_sic.csv\")\n",
    "\n",
    "df_rcra = pd.read_csv(\"../../data/preprocessed/scoring_indicators/DesirableUndesirableActivities/rcra_facilities.csv\")\n",
    "\n",
    "df_undes_google_places = pd.read_csv(\"../../data/preprocessed/scoring_indicators/DesirableUndesirableActivities/ga_undesirable_rough.csv\")\n",
    "\n",
    "# gdf_wetland = gpd.read_file(\"../../data/preprocessed/scoring_indicators/DesirableUndesirableActivities/ga_wetlands_cleaned.gpkg\")"
   ]
  },
  {
   "cell_type": "code",
   "execution_count": 19,
   "metadata": {},
   "outputs": [],
   "source": [
    "# Create a cleaned and standardized version of df_hsi\n",
    "df_hsi_clean = df_hsi.copy()\n",
    "df_hsi_clean['data_source'] = 'hsi'\n",
    "df_hsi_clean['undesirable_activity'] = 'hazardous_inventory'\n",
    "df_hsi_clean = df_hsi_clean.rename(columns={\n",
    "    'Site Name': 'site_name',\n",
    "    'Address': 'site_address',\n",
    "    'City': 'site_city',\n",
    "    'County': 'site_county',\n",
    "    'Lattitude': 'site_latitude',\n",
    "    'Longitude': 'site_longitude'\n",
    "})\n",
    "df_hsi_final = df_hsi_clean[[\n",
    "    'data_source', 'site_name', 'site_address', 'site_city', \n",
    "    'site_county', 'site_latitude', 'site_longitude', 'undesirable_activity'\n",
    "]]"
   ]
  },
  {
   "cell_type": "code",
   "execution_count": 20,
   "metadata": {},
   "outputs": [],
   "source": [
    "# Create a cleaned and standardized version of df_tri\n",
    "df_tri_clean = df_tri.copy()\n",
    "df_tri_clean['data_source'] = 'tri'\n",
    "df_tri_clean['undesirable_activity'] = 'chemical_activity'\n",
    "df_tri_clean = df_tri_clean.rename(columns={\n",
    "    'TRI Facility Name': 'site_name',\n",
    "    'Latitude': 'site_latitude',\n",
    "    'Longitude': 'site_longitude'\n",
    "})\n",
    "df_tri_clean['site_address'] = None  \n",
    "df_tri_clean['site_city'] = None     \n",
    "df_tri_clean['site_county'] = None   \n",
    "df_tri_final = df_tri_clean[[\n",
    "    'data_source', 'site_name', 'site_address', 'site_city', \n",
    "    'site_county', 'site_latitude', 'site_longitude', 'undesirable_activity'\n",
    "]]"
   ]
  },
  {
   "cell_type": "code",
   "execution_count": 21,
   "metadata": {},
   "outputs": [],
   "source": [
    "# Filter and clean df_cdr\n",
    "df_cdr_filtered = df_cdr[df_cdr['SITE NAICS CODE 1'].str[:2].isin(['31', '32', '33'])]\n",
    "df_cdr_filtered = df_cdr_filtered.copy()\n",
    "df_cdr_filtered['data_source'] = 'cdr'\n",
    "df_cdr_filtered['undesirable_activity'] = 'heavy_chemical_manufacturing'\n",
    "df_cdr_filtered = df_cdr_filtered.rename(columns={\n",
    "    'SITE NAME': 'site_name',\n",
    "    'SITE ADDRESS LINE1': 'site_address',\n",
    "    'SITE CITY': 'site_city',\n",
    "    'SITE COUNTY / PARISH': 'site_county',\n",
    "    'SITE LATITUDE': 'site_latitude',\n",
    "    'SITE LONGITUDE': 'site_longitude'\n",
    "})\n",
    "df_cdr_final = df_cdr_filtered[[\n",
    "    'data_source', 'site_name', 'site_address', 'site_city', \n",
    "    'site_county', 'site_latitude', 'site_longitude', 'undesirable_activity'\n",
    "]]\n"
   ]
  },
  {
   "cell_type": "code",
   "execution_count": 22,
   "metadata": {},
   "outputs": [],
   "source": [
    "df_final_v1 = pd.concat([df_hsi_final, df_tri_final, df_cdr_final], ignore_index=True)\n"
   ]
  },
  {
   "cell_type": "code",
   "execution_count": 23,
   "metadata": {},
   "outputs": [],
   "source": [
    "# Mapping of letters to undesirable activities\n",
    "enforcement_map = {\n",
    "    'L': 'land_disposal',\n",
    "    'I': 'incinerator',\n",
    "    'B': 'industrial_furnace',\n",
    "    'S': 'storage',\n",
    "    'T': 'treatment',\n",
    "    'H': 'solid_waste_management'\n",
    "}\n",
    "\n",
    "# Function to extract activities from FULL_ENFORCEMENT string\n",
    "def map_enforcement(enforcement_str):\n",
    "    return ', '.join([activity for letter, activity in enforcement_map.items() if letter in enforcement_str]) or None\n",
    "\n",
    "# Apply the function to create the undesirable_activity column\n",
    "df_rcra['undesirable_activity'] = df_rcra['FULL_ENFORCEMENT'].apply(map_enforcement)"
   ]
  },
  {
   "cell_type": "code",
   "execution_count": 24,
   "metadata": {},
   "outputs": [],
   "source": [
    "df_rcra_filtered = df_rcra[df_rcra['undesirable_activity'].notna()].copy()"
   ]
  },
  {
   "cell_type": "code",
   "execution_count": 25,
   "metadata": {},
   "outputs": [],
   "source": [
    "df_rcra_filtered['data_source'] = 'rcra'\n",
    "df_rcra_filtered = df_rcra_filtered.rename(columns={\n",
    "    'FACILITY_NAME': 'site_name',\n",
    "    'STREET_ADDRESS': 'site_address',\n",
    "    'CITY_NAME': 'site_city',\n",
    "    'LATITUDE83': 'site_latitude',\n",
    "    'LONGITUDE83': 'site_longitude'\n",
    "})\n",
    "df_rcra_filtered['site_county'] = None\n",
    "\n",
    "# Reorder columns to match df_final\n",
    "df_rcra_final = df_rcra_filtered[[\n",
    "    'data_source', 'site_name', 'site_address', 'site_city',\n",
    "    'site_county', 'site_latitude', 'site_longitude', 'undesirable_activity'\n",
    "]]"
   ]
  },
  {
   "cell_type": "code",
   "execution_count": 26,
   "metadata": {},
   "outputs": [],
   "source": [
    "df_final_v2 = pd.concat([df_final_v1, df_rcra_final], ignore_index=True)"
   ]
  },
  {
   "cell_type": "code",
   "execution_count": 27,
   "metadata": {},
   "outputs": [],
   "source": [
    "# Filter and clean df_undes_google_places\n",
    "df_undes_google_places_clean  = df_undes_google_places.copy()\n",
    "df_undes_google_places_clean = df_undes_google_places_clean[df_undes_google_places_clean['amenity_key'] != 'commercial_livestock']\n",
    "df_undes_google_places_clean = df_undes_google_places_clean[df_undes_google_places_clean['business_status'].notna()]\n",
    "\n",
    "df_undes_google_places_clean['data_source'] = 'google_places'\n",
    "df_undes_google_places_clean['undesirable_activity'] = df_undes_google_places_clean['amenity_key']\n",
    "\n",
    "df_undes_google_places_clean = df_undes_google_places_clean.rename(columns={\n",
    "    'name': 'site_name',\n",
    "    'vicinity': 'site_address',\n",
    "    'lat': 'site_latitude',\n",
    "    'lon': 'site_longitude'\n",
    "})\n",
    "\n",
    "df_undes_google_places_clean['site_city'] = None\n",
    "df_undes_google_places_clean['site_county'] = None\n",
    "\n",
    "df_undes_google_places_final = df_undes_google_places_clean[[\n",
    "    'data_source', 'site_name', 'site_address', 'site_city', \n",
    "    'site_county', 'site_latitude', 'site_longitude', 'undesirable_activity'\n",
    "]]\n",
    "\n"
   ]
  },
  {
   "cell_type": "code",
   "execution_count": 28,
   "metadata": {},
   "outputs": [],
   "source": [
    "df_final = pd.concat([df_final_v2, df_undes_google_places_final], ignore_index=True)"
   ]
  },
  {
   "cell_type": "code",
   "execution_count": 30,
   "metadata": {},
   "outputs": [],
   "source": [
    "df_final.to_csv(\"../../data/processed/scoring_indicators/undesirable_hsi_tri_cdr_rcra_google_places.csv\", index=False) "
   ]
  }
 ],
 "metadata": {
  "kernelspec": {
   "display_name": "base",
   "language": "python",
   "name": "python3"
  },
  "language_info": {
   "codemirror_mode": {
    "name": "ipython",
    "version": 3
   },
   "file_extension": ".py",
   "mimetype": "text/x-python",
   "name": "python",
   "nbconvert_exporter": "python",
   "pygments_lexer": "ipython3",
   "version": "3.12.7"
  }
 },
 "nbformat": 4,
 "nbformat_minor": 2
}
