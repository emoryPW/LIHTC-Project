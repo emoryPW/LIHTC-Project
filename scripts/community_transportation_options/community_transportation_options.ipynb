{
 "cells": [
  {
   "cell_type": "markdown",
   "metadata": {},
   "source": [
    "# Audit of Community Transportation Options Score\n",
    "\n",
    "## Introduction\n",
    "This JupyterBook chapter documents the audit process for verifying **Community Transportation Options** scores claimed by applicants under the **State of Georgia 2024-2025 Qualified Allocation Plan (QAP)**. The audit uses MARTA transit data to evaluate the **accuracy of distance calculations, transit hub qualification, and service frequency**.\n",
    "\n",
    "## Data Sources\n",
    "\n",
    "### MARTA Datasets Used\n",
    "\n",
    "| Dataset | Description | Number of Entries | Key Columns |\n",
    "|---------|-------------|-------------------|-------------|\n",
    "| `MARTA_Stops.csv` | List of all MARTA transit stops | 9171 | `stop_id`, `stop_name`, `stop_lat`, `stop_lon` |\n",
    "| `MARTA_Rail_Stations.csv` | List of MARTA rail stations | 38 | `Station`, `Station Code`, `x`, `y` |\n",
    "| `MARTA_Routes.csv` | Information about MARTA routes | 394 | `route_id`, `route_short_name`, `route_long_name`, `route_type` |\n",
    "\n",
    "The dataset provides information about **transit stops, rail stations, and bus routes**, which are necessary for verifying applicant claims.\n",
    "\n",
    "## Audit Methodology\n",
    "The audit involves the following steps:\n",
    "\n",
    "1. **Find the nearest transit stop** to the applicant's site using geospatial distance.\n",
    "2. **Verify if the stop qualifies as a transit hub** (has at least 3 bus/rail routes).\n",
    "3. **Calculate the actual walking distance** between the site and the transit stop.\n",
    "4. **Check transit service frequency** (must operate at least 5 days/week or 7 days/week for 6-point claims).\n",
    "5. **Predict the expected score** based on QAP criteria.\n",
    "\n",
    "Potential issue: (currently, we assumed all transit services are available)\n",
    "- Missing Information: Real-Time Transit Service Schedule\n",
    "  - Whether each transit stop operates at least 5 days/week (or 7 days/week for 6-point claims).\n",
    "  - Time of day service starts and ends\n",
    "  - Any seasonal or temporary changes in transit routes\n",
    "\n",
    "\n",
    "\n",
    "---"
   ]
  },
  {
   "cell_type": "markdown",
   "metadata": {},
   "source": [
    "## Load Data and Define Functions\n"
   ]
  },
  {
   "cell_type": "code",
   "execution_count": 4,
   "metadata": {},
   "outputs": [],
   "source": [
    "import pandas as pd\n",
    "from geopy.distance import geodesic"
   ]
  },
  {
   "cell_type": "code",
   "execution_count": 7,
   "metadata": {},
   "outputs": [],
   "source": [
    "# Load MARTA datasets\n",
    "stops = pd.read_csv(\"MARTA_data/MARTA_Stops.csv\")\n",
    "rail_stations = pd.read_csv(\"MARTA_data/MARTA_Rail_Stations.csv\")\n",
    "routes = pd.read_csv(\"MARTA_data/MARTA_Routes.csv\")"
   ]
  },
  {
   "cell_type": "code",
   "execution_count": 8,
   "metadata": {},
   "outputs": [],
   "source": [
    "\n",
    "# Function to find the nearest transit stop\n",
    "def find_nearest_transit_stop(site_lat, site_lng, stops_df):\n",
    "    stops_df[\"distance_miles\"] = stops_df.apply(\n",
    "        lambda row: geodesic((site_lat, site_lng), (row[\"stop_lat\"], row[\"stop_lon\"])).miles, axis=1\n",
    "    )\n",
    "    nearest_stop = stops_df.loc[stops_df[\"distance_miles\"].idxmin()]\n",
    "    return {\n",
    "        \"stop_id\": nearest_stop[\"stop_id\"],\n",
    "        \"stop_name\": nearest_stop[\"stop_name\"],\n",
    "        \"stop_lat\": nearest_stop[\"stop_lat\"],\n",
    "        \"stop_lon\": nearest_stop[\"stop_lon\"],\n",
    "        \"distance_miles\": nearest_stop[\"distance_miles\"],\n",
    "    }\n",
    "\n",
    "# Function to check if a stop is a transit hub\n",
    "def verify_transit_hub(stop_id, routes_df):\n",
    "    stop_routes = routes_df[routes_df[\"route_id\"] == stop_id]\n",
    "    return len(stop_routes) >= 3"
   ]
  },
  {
   "cell_type": "markdown",
   "metadata": {},
   "source": [
    "---\n",
    "\n",
    "## Predict Transit Score\n"
   ]
  },
  {
   "cell_type": "code",
   "execution_count": 9,
   "metadata": {},
   "outputs": [],
   "source": [
    "def predict_transit_score(\n",
    "    site_lat, site_lng, dca_pool, transit_service_days, is_fixed_route, is_site_owned_by_transit_agency\n",
    "):\n",
    "    nearest_stop = find_nearest_transit_stop(site_lat, site_lng, stops)\n",
    "    expected_score = 0.0\n",
    "    distance = nearest_stop[\"distance_miles\"]\n",
    "    stop_id = nearest_stop[\"stop_id\"]\n",
    "    is_hub = verify_transit_hub(stop_id, routes)\n",
    "\n",
    "    # Subsection A: Transit-Oriented Development\n",
    "    if dca_pool == \"Metro\":\n",
    "        if is_site_owned_by_transit_agency and is_hub and transit_service_days == 7:\n",
    "            expected_score = 6.0  # A.1\n",
    "        elif is_hub and transit_service_days >= 5:\n",
    "            if distance <= 0.25:\n",
    "                expected_score = 5.0\n",
    "            elif distance <= 0.5:\n",
    "                expected_score = 4.5\n",
    "            elif distance <= 1.0:\n",
    "                expected_score = 4.0\n",
    "    \n",
    "    # Subsection B: General Public Transit Access\n",
    "    if dca_pool == \"Metro\" and is_fixed_route and transit_service_days >= 5:\n",
    "        if distance <= 0.25:\n",
    "            expected_score = 3.0\n",
    "        elif distance <= 0.5:\n",
    "            expected_score = 2.0\n",
    "        elif distance <= 1.0:\n",
    "            expected_score = 1.0\n",
    "\n",
    "    return {\n",
    "        \"expected_score\": expected_score,\n",
    "        \"distance_miles\": distance,\n",
    "        \"nearest_stop\": nearest_stop[\"stop_name\"],\n",
    "        \"is_hub\": is_hub,\n",
    "    }\n"
   ]
  },
  {
   "cell_type": "markdown",
   "metadata": {},
   "source": [
    "---\n",
    "\n",
    "## Example Prediction Execution\n"
   ]
  },
  {
   "cell_type": "code",
   "execution_count": 10,
   "metadata": {},
   "outputs": [
    {
     "data": {
      "text/plain": [
       "{'expected_score': 3.0,\n",
       " 'distance_miles': 0.07536159006798185,\n",
       " 'nearest_stop': 'MARTIN L KING J DR @ COURTLAND ST',\n",
       " 'is_hub': False}"
      ]
     },
     "execution_count": 10,
     "metadata": {},
     "output_type": "execute_result"
    }
   ],
   "source": [
    "prediction_result = predict_transit_score(\n",
    "    site_lat=33.7490, site_lng=-84.3880,  # Example site in Atlanta\n",
    "    dca_pool=\"Metro\",\n",
    "    transit_service_days=7,\n",
    "    is_fixed_route=True,\n",
    "    is_site_owned_by_transit_agency=False\n",
    ")\n",
    "\n",
    "# Display results\n",
    "prediction_result"
   ]
  }
 ],
 "metadata": {
  "kernelspec": {
   "display_name": "lda_env",
   "language": "python",
   "name": "python3"
  },
  "language_info": {
   "codemirror_mode": {
    "name": "ipython",
    "version": 3
   },
   "file_extension": ".py",
   "mimetype": "text/x-python",
   "name": "python",
   "nbconvert_exporter": "python",
   "pygments_lexer": "ipython3",
   "version": "3.8.20"
  }
 },
 "nbformat": 4,
 "nbformat_minor": 2
}
