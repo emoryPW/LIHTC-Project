{
 "cells": [
  {
   "cell_type": "code",
   "execution_count": 4,
   "metadata": {},
   "outputs": [],
   "source": [
    "import numpy as np\n",
    "import pandas as pd"
   ]
  },
  {
   "cell_type": "code",
   "execution_count": null,
   "metadata": {},
   "outputs": [],
   "source": [
    "def excel_sheets_to_dataframes(excel_file_path):\n",
    "\n",
    "    # Load the Excel file\n",
    "    excel_data = pd.ExcelFile(excel_file_path)\n",
    "    \n",
    "    dataframes = {}\n",
    "\n",
    "    # Iterate over each sheet\n",
    "    for sheet_name in excel_data.sheet_names:\n",
    "        # Read the sheet into a DataFrame\n",
    "        df = pd.read_excel(excel_file_path, sheet_name=sheet_name)\n",
    "\n",
    "        # # Optionally drop rows and columns that are completely empty\n",
    "        df.dropna(how='all', axis=0, inplace=True)\n",
    "        df.dropna(how='all', axis=1, inplace=True)\n",
    "\n",
    "        sanitized_name = sheet_name.lower().replace(\" \", \"_\")\n",
    "        print(sanitized_name)\n",
    "\n",
    "        # Store the DataFrame in the dictionary\n",
    "        dataframes[sanitized_name] = df\n",
    "\n",
    "        # Save them as csvs\n",
    "        df.to_csv(\"../../data/preprocessed/scoring_indicators/StableCommunities/\"+sanitized_name+\"_2024.csv\")\n",
    "        print(\"../../data/preprocessed/scoring_indicators/StableCommunities/\"+sanitized_name+\"_2024.csv\")\n",
    "    return dataframes\n"
   ]
  },
  {
   "cell_type": "code",
   "execution_count": 25,
   "metadata": {},
   "outputs": [
    {
     "name": "stdout",
     "output_type": "stream",
     "text": [
      "data_sources\n",
      "../../data/preprocessed/scoring_indicators/data_sources_2024.csv\n",
      "percentiles\n",
      "../../data/preprocessed/scoring_indicators/percentiles_2024.csv\n",
      "environmental_health_index\n",
      "../../data/preprocessed/scoring_indicators/environmental_health_index_2024.csv\n",
      "transit_access_index\n",
      "../../data/preprocessed/scoring_indicators/transit_access_index_2024.csv\n",
      "above_poverty_level\n",
      "../../data/preprocessed/scoring_indicators/above_poverty_level_2024.csv\n",
      "median_income\n",
      "../../data/preprocessed/scoring_indicators/median_income_2024.csv\n",
      "jobs_proximity_index\n",
      "../../data/preprocessed/scoring_indicators/jobs_proximity_index_2024.csv\n"
     ]
    }
   ],
   "source": [
    "excel_file = \"../../data/raw/scoring_indicators/2024stablecommunities.xlsx\"\n",
    "dfs_dict = excel_sheets_to_dataframes(excel_file)"
   ]
  },
  {
   "cell_type": "code",
   "execution_count": 26,
   "metadata": {},
   "outputs": [
    {
     "name": "stdout",
     "output_type": "stream",
     "text": [
      "2796\n",
      "2796\n",
      "2796\n",
      "2796\n",
      "2796\n"
     ]
    }
   ],
   "source": [
    "print(dfs_dict['environmental_health_index']['2020 Census Tract'].nunique())\n",
    "print(dfs_dict['transit_access_index']['2020 Census Tract'].nunique())\n",
    "print(dfs_dict['above_poverty_level']['2020 Census Tract'].nunique())\n",
    "print(dfs_dict['median_income']['2020 Census Tract'].nunique())\n",
    "print(dfs_dict['jobs_proximity_index']['2020 Census Tract'].nunique())"
   ]
  },
  {
   "cell_type": "code",
   "execution_count": 28,
   "metadata": {},
   "outputs": [],
   "source": [
    "# Merge the first two\n",
    "df_merged = pd.merge(dfs_dict['environmental_health_index'], \n",
    "                     dfs_dict['transit_access_index'],\n",
    "                     on=\"2020 Census Tract\",\n",
    "                     how=\"outer\")\n",
    "\n",
    "# Merge the next\n",
    "df_merged = pd.merge(df_merged, \n",
    "                     dfs_dict['above_poverty_level'], \n",
    "                     on=\"2020 Census Tract\", \n",
    "                     how=\"outer\")\n",
    "\n",
    "# Merge the next\n",
    "df_merged = pd.merge(df_merged, \n",
    "                     dfs_dict['median_income'], \n",
    "                     on=\"2020 Census Tract\", \n",
    "                     how=\"outer\")\n",
    "\n",
    "# Merge the final\n",
    "df_merged = pd.merge(df_merged, \n",
    "                     dfs_dict['jobs_proximity_index'], \n",
    "                     on=\"2020 Census Tract\", \n",
    "                     how=\"outer\")"
   ]
  },
  {
   "cell_type": "code",
   "execution_count": 29,
   "metadata": {},
   "outputs": [
    {
     "data": {
      "text/plain": [
       "2020 Census Tract                                  int64\n",
       "Environmental Health Index                       float64\n",
       "Transit Access Index                              object\n",
       "Percent of Population Above the Poverty Level     object\n",
       "Median Income                                     object\n",
       "Jobs Proximity Index                             float64\n",
       "dtype: object"
      ]
     },
     "execution_count": 29,
     "metadata": {},
     "output_type": "execute_result"
    }
   ],
   "source": [
    "df_merged.dtypes"
   ]
  },
  {
   "cell_type": "code",
   "execution_count": 30,
   "metadata": {},
   "outputs": [],
   "source": [
    "for col in df_merged.columns:\n",
    "    if col != \"2020 Census Tract\":\n",
    "        df_merged[col] = pd.to_numeric(df_merged[col], errors='coerce')\n",
    "\n",
    "        col_median = df_merged[col].median()\n",
    "        \n",
    "        new_col_name = f\"above_median_{col}\"\n",
    "        \n",
    "        df_merged[new_col_name] = np.where(df_merged[col] > col_median, \n",
    "                                    1, \n",
    "                                    0)\n"
   ]
  },
  {
   "cell_type": "code",
   "execution_count": 31,
   "metadata": {},
   "outputs": [],
   "source": [
    "if not df_merged.empty:\n",
    "    df_merged.to_csv('../../data/processed/scoring_indicators/stable_communities_2024_processed.csv', index=False)\n",
    "else:\n",
    "    print(\"Warning: df_merged is empty. CSV file not saved.\")"
   ]
  }
 ],
 "metadata": {
  "kernelspec": {
   "display_name": "base",
   "language": "python",
   "name": "python3"
  },
  "language_info": {
   "codemirror_mode": {
    "name": "ipython",
    "version": 3
   },
   "file_extension": ".py",
   "mimetype": "text/x-python",
   "name": "python",
   "nbconvert_exporter": "python",
   "pygments_lexer": "ipython3",
   "version": "3.12.7"
  }
 },
 "nbformat": 4,
 "nbformat_minor": 2
}
