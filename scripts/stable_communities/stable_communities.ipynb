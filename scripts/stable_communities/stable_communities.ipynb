{
 "cells": [
  {
   "cell_type": "code",
   "execution_count": 7,
   "metadata": {},
   "outputs": [],
   "source": [
    "import geopandas as gpd\n",
    "import pandas as pd\n",
    "import requests\n",
    "from shapely.geometry import Point\n",
    "import numpy as np\n",
    "from geopy.distance import geodesic"
   ]
  },
  {
   "cell_type": "code",
   "execution_count": 2,
   "metadata": {},
   "outputs": [],
   "source": [
    "census_tracts = gpd.read_file(\"../../data/raw/shapefiles/tl_2024_13_tract/tl_2024_13_tract.shp\")\n",
    "ga_tracts = census_tracts.to_crs(epsg=4326)\n"
   ]
  },
  {
   "cell_type": "code",
   "execution_count": 3,
   "metadata": {},
   "outputs": [],
   "source": [
    "def find_census_tracts(lat, lon, census_tracts_gdf):\n",
    "    \"\"\"\n",
    "    Identify the census tract containing the point and census tracts within 0.25 miles.\n",
    "    \"\"\"\n",
    "    point = Point(lon, lat)\n",
    "    \n",
    "    # Ensure the census tracts are in WGS 84 (EPSG:4326) for point lookup\n",
    "    census_tracts_gdf = census_tracts_gdf.to_crs(epsg=4326)\n",
    "    actual_tract = census_tracts_gdf[census_tracts_gdf.contains(point)]\n",
    "    \n",
    "    # Convert to a projected CRS (meters) for distance calculations\n",
    "    census_tracts_meters = census_tracts_gdf.to_crs(epsg=3857)\n",
    "    point_meters = gpd.GeoSeries([point], crs=4326).to_crs(epsg=3857).iloc[0]\n",
    "    \n",
    "    # Buffer 0.25 miles (~402 meters) and find nearby census tracts\n",
    "    point_buffer = point_meters.buffer(402)  # Distance in meters\n",
    "    nearby_tracts = census_tracts_meters[census_tracts_meters.intersects(point_buffer)]\n",
    "    \n",
    "    tract_dict = {}\n",
    "    if not actual_tract.empty:\n",
    "        tract_dict[\"actual\"] = actual_tract.iloc[0][\"GEOID\"]  # Assuming GEOID as census tract identifier\n",
    "    \n",
    "    for idx, row in nearby_tracts.iterrows():\n",
    "        if row[\"GEOID\"] != tract_dict.get(\"actual\"):\n",
    "            tract_dict[f\"tract{idx}\"] = row[\"GEOID\"]\n",
    "    \n",
    "    return tract_dict"
   ]
  },
  {
   "cell_type": "code",
   "execution_count": 4,
   "metadata": {},
   "outputs": [],
   "source": [
    "def calculate_indicators_score(tract_dict, indicators_df):\n",
    "    \"\"\"\n",
    "    Calculate the number of indicators above the 50th percentile and determine the score.\n",
    "    \"\"\"\n",
    "    indicators = [\n",
    "        \"above_median_Environmental Health Index\",\n",
    "        \"above_median_Transit Access Index\",\n",
    "        \"above_median_Percent of Population Above the Poverty Level\",\n",
    "        \"above_median_Median Income\",\n",
    "        \"above_median_Jobs Proximity Index\"\n",
    "    ]\n",
    "    \n",
    "    actual_tract = tract_dict.get(\"actual\")\n",
    "    \n",
    "    # Ensure census tract column is treated as string for proper matching\n",
    "    indicators_df[\"2020 Census Tract\"] = indicators_df[\"2020 Census Tract\"].astype(str)\n",
    "    \n",
    "    if actual_tract and actual_tract in indicators_df[\"2020 Census Tract\"].values:\n",
    "        actual_data = indicators_df[indicators_df[\"2020 Census Tract\"] == actual_tract]\n",
    "        actual_count = actual_data[indicators].sum(axis=1).iloc[0]  # Use .iloc[0] to extract value properly\n",
    "    else:\n",
    "        actual_count = 0\n",
    "    \n",
    "    near_counts = []\n",
    "    for key, tract in tract_dict.items():\n",
    "        if key == \"actual\":\n",
    "            continue\n",
    "        if tract in indicators_df[\"2020 Census Tract\"].values:\n",
    "            near_data = indicators_df[indicators_df[\"2020 Census Tract\"] == tract]\n",
    "            near_counts.append(near_data[indicators].sum(axis=1).iloc[0])\n",
    "    \n",
    "    near_max = max(near_counts) if near_counts else 0\n",
    "    \n",
    "    # Determine points based on the rules\n",
    "    if actual_count >= 4:\n",
    "        score = 10\n",
    "    elif actual_count == 3:\n",
    "        score = 8\n",
    "    elif actual_count == 2:\n",
    "        score = 6\n",
    "    elif near_max >= 4:\n",
    "        score = 9\n",
    "    elif near_max == 3:\n",
    "        score = 7\n",
    "    elif near_max == 2:\n",
    "        score = 5\n",
    "    else:\n",
    "        score = 0\n",
    "    \n",
    "    return {\n",
    "        \"actual_tract\": actual_tract,\n",
    "        \"actual_count\": actual_count,\n",
    "        \"nearby_max\": near_max,\n",
    "        \"score\": score\n",
    "    }\n",
    "\n",
    "# Load the census tracts shapefile\n",
    "gdf = gpd.read_file(\"../../data/raw/shapefiles/tl_2024_13_tract/tl_2024_13_tract.shp\")\n",
    "gdf = gdf.to_crs(epsg=4326)  \n",
    "\n",
    "# Load the indicators dataset\n",
    "indicators_df = pd.read_csv(\"../../data/processed/scoring_indicators/stable_communities_2024_processed.csv\")"
   ]
  },
  {
   "cell_type": "code",
   "execution_count": 17,
   "metadata": {},
   "outputs": [
    {
     "name": "stdout",
     "output_type": "stream",
     "text": [
      "Tract Information: {'actual': '13035150201'}\n",
      "Score Information: {'actual_tract': '13035150201', 'actual_count': 1, 'nearby_max': 0, 'score': 0}\n"
     ]
    }
   ],
   "source": [
    "# Hertitage Competitive Core\n",
    "latitude = 33.278968\n",
    "longitude = -83.965148\n",
    "tract_info = find_census_tracts(latitude, longitude, gdf)\n",
    "score_info = calculate_indicators_score(tract_info, indicators_df)\n",
    "\n",
    "print(\"Tract Information:\", tract_info)\n",
    "print(\"Score Information:\", score_info)"
   ]
  },
  {
   "cell_type": "code",
   "execution_count": 16,
   "metadata": {},
   "outputs": [
    {
     "name": "stdout",
     "output_type": "stream",
     "text": [
      "Tract Information: {'actual': '13153021123', 'tract824': '13153021122'}\n",
      "Score Information: {'actual_tract': '13153021123', 'actual_count': 4, 'nearby_max': 4, 'score': 10}\n"
     ]
    }
   ],
   "source": [
    "latitude = 32.579719\n",
    "longitude = -83.700408\n",
    "tract_info = find_census_tracts(latitude, longitude, gdf)\n",
    "score_info = calculate_indicators_score(tract_info, indicators_df)\n",
    "\n",
    "print(\"Tract Information:\", tract_info)\n",
    "print(\"Score Information:\", score_info)"
   ]
  },
  {
   "cell_type": "code",
   "execution_count": 14,
   "metadata": {},
   "outputs": [
    {
     "name": "stdout",
     "output_type": "stream",
     "text": [
      "Tract Information: {'actual': '13031110202', 'tract851': '13031110301'}\n",
      "Score Information: {'actual_tract': '13031110202', 'actual_count': 3, 'nearby_max': 3, 'score': 8}\n"
     ]
    }
   ],
   "source": [
    "# Example usage:\n",
    "latitude = 32.45719\n",
    "longitude = -81.796489\n",
    "tract_info = find_census_tracts(latitude, longitude, gdf)\n",
    "score_info = calculate_indicators_score(tract_info, indicators_df)\n",
    "\n",
    "print(\"Tract Information:\", tract_info)\n",
    "print(\"Score Information:\", score_info)"
   ]
  }
 ],
 "metadata": {
  "kernelspec": {
   "display_name": "base",
   "language": "python",
   "name": "python3"
  },
  "language_info": {
   "codemirror_mode": {
    "name": "ipython",
    "version": 3
   },
   "file_extension": ".py",
   "mimetype": "text/x-python",
   "name": "python",
   "nbconvert_exporter": "python",
   "pygments_lexer": "ipython3",
   "version": "3.12.7"
  }
 },
 "nbformat": 4,
 "nbformat_minor": 2
}
