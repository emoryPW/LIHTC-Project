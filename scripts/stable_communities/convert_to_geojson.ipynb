{
 "cells": [
  {
   "cell_type": "code",
   "execution_count": 1,
   "id": "dd499e01",
   "metadata": {},
   "outputs": [],
   "source": [
    "import pandas as pd\n",
    "import geopandas as gpd\n",
    "import pandas as pd, geopandas as gpd\n",
    "from shapely.geometry import Point "
   ]
  },
  {
   "cell_type": "code",
   "execution_count": 2,
   "id": "f84d6797",
   "metadata": {},
   "outputs": [],
   "source": [
    "csv_path     = \"../../data/processed/scoring_indicators/housing_needs/merged_housing_data.csv\"     \n",
    "shp_path     = \"../../data/raw/shapefiles/tl_2024_13_tract/tl_2024_13_tract.shp\"\n",
    "out_geojson  = \"../../data/map/housing_need_characteristics/merged_housing_data.geojson\"\n"
   ]
  },
  {
   "cell_type": "code",
   "execution_count": 36,
   "id": "021f75dd",
   "metadata": {},
   "outputs": [],
   "source": [
    "csv_path     = \"../../data/raw/scoring_indicators/food_access_research_atlas.csv\"     \n",
    "shp_path     = \"../../data/raw/shapefiles/tl_2024_13_tract/tl_2024_13_tract.shp\"\n",
    "out_geojson  = \"../../data/processed/scoring_indicators/food_access_research_atlas.geojson\"\n"
   ]
  },
  {
   "cell_type": "code",
   "execution_count": 3,
   "id": "f03d9dac",
   "metadata": {},
   "outputs": [],
   "source": [
    "df = pd.read_csv(csv_path).rename(columns={\"2020 Census Tract\": \"GEOID\"})\n",
    "\n",
    "# 👉 Convert tract column to an 11‑digit string (keeps leading zeros)\n",
    "df[\"GEOID\"] = (\n",
    "    df[\"GEOID\"]\n",
    "      .astype(str)            # numeric → string\n",
    "      .str.replace(r\"\\.0$\", \"\", regex=True)  # drop any trailing “.0”\n",
    "      .str.zfill(11)          # pad to 11 digits\n",
    ")\n",
    "\n",
    "# Read tract polygons\n",
    "gdf = gpd.read_file(shp_path)[[\"GEOID\", \"geometry\"]]\n",
    "\n",
    "# Ensure polygon key is also a string\n",
    "gdf[\"GEOID\"] = gdf[\"GEOID\"].astype(str).str.zfill(11)\n",
    "\n",
    "# Merge\n",
    "merged = gdf.merge(df, on=\"GEOID\", how=\"inner\")"
   ]
  },
  {
   "cell_type": "code",
   "execution_count": 4,
   "id": "1397f531",
   "metadata": {},
   "outputs": [],
   "source": [
    "merged.to_file(out_geojson, driver=\"GeoJSON\")"
   ]
  },
  {
   "cell_type": "code",
   "execution_count": 2,
   "id": "fb4545c7",
   "metadata": {},
   "outputs": [],
   "source": [
    "csv_path_lat_lon = \"../../data/map/application_list.csv\"     \n",
    "output_lat_lon = \"../../data/map/application_list_2022_2023_2024_v2.geojson\"  "
   ]
  },
  {
   "cell_type": "code",
   "execution_count": 7,
   "id": "4db80141",
   "metadata": {},
   "outputs": [],
   "source": [
    "csv_path_lat_lon = \"../../data/processed/scoring_indicators/desirable_activities_google_places_v2.csv\"     \n",
    "output_lat_lon = \"../../data/processed/scoring_indicators/desirable_activities_google_places_v3.csv\"  "
   ]
  },
  {
   "cell_type": "code",
   "execution_count": 4,
   "id": "47cd54a8",
   "metadata": {},
   "outputs": [],
   "source": [
    "# 1. Read the 2024 GA census‑tract shapefile\n",
    "ga_tracts = gpd.read_file(\"../../data/raw/shapefiles/tl_2024_13_tract/tl_2024_13_tract.shp\").to_crs(\"EPSG:4326\")\n",
    "\n",
    "# 2. Convert your CSV to GeoDataFrame\n",
    "df  = pd.read_csv(csv_path_lat_lon)"
   ]
  },
  {
   "cell_type": "code",
   "execution_count": 9,
   "id": "f8e24e65",
   "metadata": {},
   "outputs": [
    {
     "data": {
      "text/plain": [
       "(123769, 9)"
      ]
     },
     "execution_count": 9,
     "metadata": {},
     "output_type": "execute_result"
    }
   ],
   "source": [
    "df.shape"
   ]
  },
  {
   "cell_type": "code",
   "execution_count": 5,
   "id": "14689082",
   "metadata": {},
   "outputs": [],
   "source": [
    "gdf = gpd.GeoDataFrame(\n",
    "        df,\n",
    "        geometry=gpd.points_from_xy(df.lon, df.lat),\n",
    "        crs=\"EPSG:4326\"\n",
    ")\n",
    "\n",
    "# 3. Keep only points that fall *within* a Georgia tract\n",
    "gdf_ga = gpd.sjoin(gdf, ga_tracts[[\"GEOID\", \"geometry\"]],\n",
    "                   predicate=\"within\", how=\"inner\").drop(columns=\"index_right\")\n",
    "\n",
    "# # 4. Now write or analyse as needed\n",
    "# gdf_ga.to_file(output_lat_lon, driver=\"GeoJSON\")"
   ]
  },
  {
   "cell_type": "code",
   "execution_count": 11,
   "id": "9a40a876",
   "metadata": {},
   "outputs": [
    {
     "data": {
      "text/plain": [
       "(87463, 11)"
      ]
     },
     "execution_count": 11,
     "metadata": {},
     "output_type": "execute_result"
    }
   ],
   "source": [
    "gdf_ga.shape"
   ]
  },
  {
   "cell_type": "code",
   "execution_count": 13,
   "id": "df3c58aa",
   "metadata": {},
   "outputs": [],
   "source": [
    "gdf_ga.to_csv(output_lat_lon, index=False)\n"
   ]
  },
  {
   "cell_type": "code",
   "execution_count": 6,
   "id": "6a9fdbee",
   "metadata": {},
   "outputs": [],
   "source": [
    "# 4. Now write or analyse as needed\n",
    "gdf_ga.to_file(output_lat_lon, driver=\"GeoJSON\")"
   ]
  },
  {
   "cell_type": "code",
   "execution_count": null,
   "id": "cb5d41b8",
   "metadata": {},
   "outputs": [],
   "source": [
    "csv_path_lat_lon = \"../../data/processed/scoring_indicators/undesirable_hsi_tri_cdr_rcra_google_places.csv\"     \n",
    "output_lat_lon = \"../../data/processed/scoring_indicators/undesirable_hsi_tri_cdr_rcra_google_places.geojson\"  \n",
    "\n",
    "df  = pd.read_csv(csv_path_lat_lon)             \n",
    "gdf = gpd.GeoDataFrame(df,\n",
    "        geometry=gpd.points_from_xy(df.site_longitude, df.site_latitude),  # lon, lat order\n",
    "        crs=\"EPSG:4326\")                    # WGS‑84, the standard for GeoJSON\n",
    "\n",
    "gdf.to_file(output_lat_lon, driver=\"GeoJSON\")"
   ]
  }
 ],
 "metadata": {
  "kernelspec": {
   "display_name": "base",
   "language": "python",
   "name": "python3"
  },
  "language_info": {
   "codemirror_mode": {
    "name": "ipython",
    "version": 3
   },
   "file_extension": ".py",
   "mimetype": "text/x-python",
   "name": "python",
   "nbconvert_exporter": "python",
   "pygments_lexer": "ipython3",
   "version": "3.12.9"
  }
 },
 "nbformat": 4,
 "nbformat_minor": 5
}
