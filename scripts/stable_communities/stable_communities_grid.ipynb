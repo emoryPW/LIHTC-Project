{
 "cells": [
  {
   "cell_type": "code",
   "execution_count": 2,
   "metadata": {},
   "outputs": [],
   "source": [
    "import numpy as np\n",
    "import pandas as pd\n",
    "from shapely.geometry import Point\n",
    "import geopandas as gpd\n"
   ]
  },
  {
   "cell_type": "code",
   "execution_count": 3,
   "metadata": {},
   "outputs": [],
   "source": [
    "def find_census_tracts(lat, lon, census_tracts_gdf):\n",
    "    \"\"\"\n",
    "    Identify the census tract containing the point and census tracts within 0.25 miles.\n",
    "    \"\"\"\n",
    "    point = Point(lon, lat)\n",
    "    \n",
    "    # Ensure the census tracts are in WGS 84 (EPSG:4326) for point lookup\n",
    "    census_tracts_gdf = census_tracts_gdf.to_crs(epsg=4326)\n",
    "    actual_tract = census_tracts_gdf[census_tracts_gdf.contains(point)]\n",
    "    \n",
    "    # Convert to a projected CRS (meters) for distance calculations\n",
    "    census_tracts_meters = census_tracts_gdf.to_crs(epsg=3857)\n",
    "    point_meters = gpd.GeoSeries([point], crs=4326).to_crs(epsg=3857).iloc[0]\n",
    "    \n",
    "    # Buffer 0.25 miles (~402 meters) and find nearby census tracts\n",
    "    point_buffer = point_meters.buffer(402)  # Distance in meters\n",
    "    nearby_tracts = census_tracts_meters[census_tracts_meters.intersects(point_buffer)]\n",
    "    \n",
    "    tract_dict = {}\n",
    "    if not actual_tract.empty:\n",
    "        tract_dict[\"actual\"] = actual_tract.iloc[0][\"GEOID\"]  # Assuming GEOID as census tract identifier\n",
    "    \n",
    "    for idx, row in nearby_tracts.iterrows():\n",
    "        if row[\"GEOID\"] != tract_dict.get(\"actual\"):\n",
    "            tract_dict[f\"tract{idx}\"] = row[\"GEOID\"]\n",
    "    \n",
    "    return tract_dict"
   ]
  },
  {
   "cell_type": "code",
   "execution_count": 4,
   "metadata": {},
   "outputs": [
    {
     "name": "stderr",
     "output_type": "stream",
     "text": [
      "/var/folders/w2/jx7kgvv14cx4km6tl2rymsmw0000gn/T/ipykernel_39690/3568557377.py:18: DeprecationWarning: The 'unary_union' attribute is deprecated, use the 'union_all()' method instead.\n",
      "  grid_gdf = grid_gdf[grid_gdf.within(ga_boundary.unary_union)]  # Keep only points inside Georgia\n"
     ]
    },
    {
     "ename": "NameError",
     "evalue": "name 'gdf' is not defined",
     "output_type": "error",
     "traceback": [
      "\u001b[0;31m---------------------------------------------------------------------------\u001b[0m",
      "\u001b[0;31mNameError\u001b[0m                                 Traceback (most recent call last)",
      "Cell \u001b[0;32mIn[4], line 24\u001b[0m\n\u001b[1;32m     22\u001b[0m \u001b[38;5;28;01mfor\u001b[39;00m point \u001b[38;5;129;01min\u001b[39;00m grid_gdf\u001b[38;5;241m.\u001b[39mgeometry:\n\u001b[1;32m     23\u001b[0m     lat, lon \u001b[38;5;241m=\u001b[39m point\u001b[38;5;241m.\u001b[39my, point\u001b[38;5;241m.\u001b[39mx\n\u001b[0;32m---> 24\u001b[0m     tract_info \u001b[38;5;241m=\u001b[39m find_census_tracts(lat, lon, gdf)\n\u001b[1;32m     25\u001b[0m     score_info \u001b[38;5;241m=\u001b[39m calculate_indicators_score(tract_info, indicators_df)\n\u001b[1;32m     27\u001b[0m     results\u001b[38;5;241m.\u001b[39mappend({\u001b[38;5;124m\"\u001b[39m\u001b[38;5;124mlatitude\u001b[39m\u001b[38;5;124m\"\u001b[39m: lat, \u001b[38;5;124m\"\u001b[39m\u001b[38;5;124mlongitude\u001b[39m\u001b[38;5;124m\"\u001b[39m: lon, \u001b[38;5;124m\"\u001b[39m\u001b[38;5;124mscore\u001b[39m\u001b[38;5;124m\"\u001b[39m: score_info[\u001b[38;5;124m\"\u001b[39m\u001b[38;5;124mscore\u001b[39m\u001b[38;5;124m\"\u001b[39m]})\n",
      "\u001b[0;31mNameError\u001b[0m: name 'gdf' is not defined"
     ]
    }
   ],
   "source": [
    "# Load Georgia boundary shapefile (adjust path if needed)\n",
    "ga_boundary = gpd.read_file(\"../../data/raw/shapefiles/tl_2024_13_tract/tl_2024_13_tract.shp\").to_crs(epsg=4326)\n",
    "\n",
    "\n",
    "\n",
    "# Define grid spacing (degrees) - Adjust for more or fewer points\n",
    "lat_min, lat_max = 30.3, 35.0  # Approximate latitude range for Georgia\n",
    "lon_min, lon_max = -85.7, -80.8  # Approximate longitude range for Georgia\n",
    "grid_spacing = 0.1  # Adjust this for higher/lower resolution\n",
    "\n",
    "# Generate grid points\n",
    "lat_values = np.arange(lat_min, lat_max, grid_spacing)\n",
    "lon_values = np.arange(lon_min, lon_max, grid_spacing)\n",
    "grid_points = [(lat, lon) for lat in lat_values for lon in lon_values]\n",
    "\n",
    "# Convert to GeoDataFrame and filter only points within Georgia\n",
    "grid_gdf = gpd.GeoDataFrame(geometry=[Point(lon, lat) for lat, lon in grid_points], crs=\"EPSG:4326\")\n",
    "grid_gdf = grid_gdf[grid_gdf.within(ga_boundary.unary_union)]  # Keep only points inside Georgia\n",
    "\n",
    "# Calculate Stable Communities Score for each grid point\n",
    "results = []\n",
    "for point in grid_gdf.geometry:\n",
    "    lat, lon = point.y, point.x\n",
    "    tract_info = find_census_tracts(lat, lon, gdf)\n",
    "    score_info = calculate_indicators_score(tract_info, indicators_df)\n",
    "\n",
    "    results.append({\"latitude\": lat, \"longitude\": lon, \"score\": score_info[\"score\"]})\n",
    "\n",
    "# Save as CSV for QGIS\n",
    "df = pd.DataFrame(results)\n",
    "df.to_csv(\"../../data/processed/scoring_indicators/georgia_stable_communities_grid.csv\", index=False)"
   ]
  }
 ],
 "metadata": {
  "kernelspec": {
   "display_name": "base",
   "language": "python",
   "name": "python3"
  },
  "language_info": {
   "codemirror_mode": {
    "name": "ipython",
    "version": 3
   },
   "file_extension": ".py",
   "mimetype": "text/x-python",
   "name": "python",
   "nbconvert_exporter": "python",
   "pygments_lexer": "ipython3",
   "version": "3.12.7"
  }
 },
 "nbformat": 4,
 "nbformat_minor": 2
}
