{
 "cells": [
  {
   "cell_type": "code",
   "execution_count": 1,
   "id": "2d5b5dd6",
   "metadata": {},
   "outputs": [],
   "source": [
    "import pandas as pd"
   ]
  },
  {
   "cell_type": "code",
   "execution_count": 2,
   "id": "6263e402",
   "metadata": {},
   "outputs": [
    {
     "data": {
      "text/plain": [
       "' kwargs = {\\n    # --- CommunityTransportationOptions ---\\n    \"stops_df\": pd.read_csv(\"data/transit_stops.csv\"),\\n    \"routes_df\": pd.read_csv(\"data/transit_routes.csv\"),\\n    \"dca_pool\": \"Metro\",\\n    \"transit_service_days\": 7,\\n    \"is_fixed_route\": True,\\n    \"is_site_owned_by_transit_agency\": False,\\n\\n    # --- DesirableUndesirableActivities ---\\n    \"is_rural\": False,\\n    \"desirable_csv\": \"data/desirable_amenities.csv\",\\n    \"grocery_csv\": \"data/grocery_stores.csv\",\\n    \"usda_csv\": \"data/usda_food_desert.csv\",\\n    \"tract_shapefile\": \"data/shapefiles/census_tracts.geojson\",\\n    \"undesirable_csv\": \"data/undesirable_activities.csv\",\\n\\n    # --- QualityEducation ---\\n    \"school_df\": pd.read_csv(\"data/processed/quality_edducation/Option_C_Scores_Eligibility_with_BTO.csv\"),\\n    \"state_avg_by_year\": {\\n        \"elementary\": {\\n            2018: 77.8,\\n            2019: 79.9\\n        },\\n        \"middle\": {\\n            2018: 76.2,\\n            2019: 77\\n        },\\n        \"high\": {\\n            2018: 75.3,\\n            2019: 78.8\\n        }\\n    },\\n\\n    # --- StableCommunities ---\\n    \"indicators_df\": pd.read_csv(\"data/community_indicators.csv\"),\\n\\n    # --- HousingNeedsCharacteristics ---\\n    \"census_tract_data\": {\\n        # GEOID: data for that census tract\\n        \"13089023300\": {\"severe_housing_problem\": 48},\\n        \"13089023400\": {\"severe_housing_problem\": 22}\\n    },\\n    \"county_data\": {\\n        \"ten_year_population_growth\": True,\\n        \"three_year_avg_growth_rate\": 1.6,\\n        \"employment_growth_rate\": 2.3\\n    },\\n    \"revitalization_score\": 4,\\n    \"in_qct\": False  # Required for housing need eligibility\\n} '"
      ]
     },
     "execution_count": 2,
     "metadata": {},
     "output_type": "execute_result"
    }
   ],
   "source": [
    "\"\"\" kwargs = {\n",
    "    # --- CommunityTransportationOptions ---\n",
    "    \"stops_df\": pd.read_csv(\"data/transit_stops.csv\"),\n",
    "    \"routes_df\": pd.read_csv(\"data/transit_routes.csv\"),\n",
    "    \"dca_pool\": \"Metro\",\n",
    "    \"transit_service_days\": 7,\n",
    "    \"is_fixed_route\": True,\n",
    "    \"is_site_owned_by_transit_agency\": False,\n",
    "\n",
    "    # --- DesirableUndesirableActivities ---\n",
    "    \"is_rural\": False,\n",
    "    \"desirable_csv\": \"data/desirable_amenities.csv\",\n",
    "    \"grocery_csv\": \"data/grocery_stores.csv\",\n",
    "    \"usda_csv\": \"data/usda_food_desert.csv\",\n",
    "    \"tract_shapefile\": \"data/shapefiles/census_tracts.geojson\",\n",
    "    \"undesirable_csv\": \"data/undesirable_activities.csv\",\n",
    "\n",
    "    # --- QualityEducation ---\n",
    "    \"school_df\": pd.read_csv(\"data/processed/quality_edducation/Option_C_Scores_Eligibility_with_BTO.csv\"),\n",
    "    \"state_avg_by_year\": {\n",
    "        \"elementary\": {\n",
    "            2018: 77.8,\n",
    "            2019: 79.9\n",
    "        },\n",
    "        \"middle\": {\n",
    "            2018: 76.2,\n",
    "            2019: 77\n",
    "        },\n",
    "        \"high\": {\n",
    "            2018: 75.3,\n",
    "            2019: 78.8\n",
    "        }\n",
    "    },\n",
    "\n",
    "    # --- StableCommunities ---\n",
    "    \"indicators_df\": pd.read_csv(\"data/community_indicators.csv\"),\n",
    "\n",
    "    # --- HousingNeedsCharacteristics ---\n",
    "    \"census_tract_data\": {\n",
    "        # GEOID: data for that census tract\n",
    "        \"13089023300\": {\"severe_housing_problem\": 48},\n",
    "        \"13089023400\": {\"severe_housing_problem\": 22}\n",
    "    },\n",
    "    \"county_data\": {\n",
    "        \"ten_year_population_growth\": True,\n",
    "        \"three_year_avg_growth_rate\": 1.6,\n",
    "        \"employment_growth_rate\": 2.3\n",
    "    },\n",
    "    \"revitalization_score\": 4,\n",
    "    \"in_qct\": False  # Required for housing need eligibility\n",
    "} \"\"\""
   ]
  },
  {
   "cell_type": "code",
   "execution_count": 3,
   "id": "58a298d3",
   "metadata": {},
   "outputs": [],
   "source": [
    "from aggregate_scoring import ScoringCriterion, QualityEducation"
   ]
  },
  {
   "cell_type": "code",
   "execution_count": 4,
   "id": "97af75a6",
   "metadata": {},
   "outputs": [],
   "source": [
    "kwargs = {\n",
    "    # --- QualityEducation ---\n",
    "    # \"school_df\": pd.read_csv(\"data/processed/scoring_indicators/quality_edducation/Option_C_Scores_Eligibility_with_BTO.csv\"),\n",
    "    \"school_df\": pd.read_csv(\"/Users/jichunzhao/Documents/qtm2025spring/qtm550spring2025_QSP/LIHTC-Project/data/processed/scoring_indicators/quality_education/Option_C_Scores_Eligibility_with_BTO.csv\"),\n",
    "    \"state_avg_by_year\": {\n",
    "        \"elementary\": {\n",
    "            2018: 77.8,\n",
    "            2019: 79.9\n",
    "        },\n",
    "        \"middle\": {\n",
    "            2018: 76.2,\n",
    "            2019: 77\n",
    "        },\n",
    "        \"high\": {\n",
    "            2018: 75.3,\n",
    "            2019: 78.8\n",
    "        }\n",
    "    }\n",
    "}"
   ]
  },
  {
   "cell_type": "code",
   "execution_count": 5,
   "id": "4121f829",
   "metadata": {},
   "outputs": [
    {
     "data": {
      "text/plain": [
       "1"
      ]
     },
     "execution_count": 5,
     "metadata": {},
     "output_type": "execute_result"
    }
   ],
   "source": [
    "QualityEducation(33.749884, -84.379744, **kwargs).calculate_score()"
   ]
  },
  {
   "cell_type": "code",
   "execution_count": 6,
   "id": "456f398e",
   "metadata": {},
   "outputs": [
    {
     "data": {
      "text/plain": [
       "<bound method QualityEducation.qualifies_by_A of <aggregate_scoring.QualityEducation object at 0x12761ac90>>"
      ]
     },
     "execution_count": 6,
     "metadata": {},
     "output_type": "execute_result"
    }
   ],
   "source": [
    "QualityEducation(32.439104, -84.943867, **kwargs).qualifies_by_A"
   ]
  },
  {
   "cell_type": "code",
   "execution_count": 7,
   "id": "a9950985",
   "metadata": {},
   "outputs": [
    {
     "data": {
      "text/html": [
       "<div>\n",
       "<style scoped>\n",
       "    .dataframe tbody tr th:only-of-type {\n",
       "        vertical-align: middle;\n",
       "    }\n",
       "\n",
       "    .dataframe tbody tr th {\n",
       "        vertical-align: top;\n",
       "    }\n",
       "\n",
       "    .dataframe thead th {\n",
       "        text-align: right;\n",
       "    }\n",
       "</style>\n",
       "<table border=\"1\" class=\"dataframe\">\n",
       "  <thead>\n",
       "    <tr style=\"text-align: right;\">\n",
       "      <th></th>\n",
       "      <th>OBJECTID</th>\n",
       "      <th>SchCode</th>\n",
       "      <th>Elementary</th>\n",
       "      <th>Middle</th>\n",
       "      <th>High</th>\n",
       "      <th>SchCode_MS</th>\n",
       "      <th>SchCode_HS</th>\n",
       "      <th>Area</th>\n",
       "      <th>Shape__Are</th>\n",
       "      <th>Shape__Len</th>\n",
       "      <th>...</th>\n",
       "      <th>MS_Num</th>\n",
       "      <th>MS_Name</th>\n",
       "      <th>MS_Address</th>\n",
       "      <th>MS_City</th>\n",
       "      <th>MS_Zip</th>\n",
       "      <th>ClusterName</th>\n",
       "      <th>DDP_MS_Name</th>\n",
       "      <th>DDP_Rotation</th>\n",
       "      <th>DDP_Page_Num</th>\n",
       "      <th>Port_LS_Mode</th>\n",
       "    </tr>\n",
       "  </thead>\n",
       "  <tbody>\n",
       "    <tr>\n",
       "      <th>14</th>\n",
       "      <td>15</td>\n",
       "      <td>60.0</td>\n",
       "      <td>Hope-Hill</td>\n",
       "      <td>Howard</td>\n",
       "      <td>Midtown</td>\n",
       "      <td>63.0</td>\n",
       "      <td>51.0</td>\n",
       "      <td>1.992888</td>\n",
       "      <td>5.555852e+07</td>\n",
       "      <td>39666.012365</td>\n",
       "      <td>...</td>\n",
       "      <td>NaN</td>\n",
       "      <td>NaN</td>\n",
       "      <td>NaN</td>\n",
       "      <td>NaN</td>\n",
       "      <td>NaN</td>\n",
       "      <td>NaN</td>\n",
       "      <td>NaN</td>\n",
       "      <td>NaN</td>\n",
       "      <td>NaN</td>\n",
       "      <td>NaN</td>\n",
       "    </tr>\n",
       "  </tbody>\n",
       "</table>\n",
       "<p>1 rows × 54 columns</p>\n",
       "</div>"
      ],
      "text/plain": [
       "    OBJECTID  SchCode Elementary  Middle     High  SchCode_MS  SchCode_HS  \\\n",
       "14        15     60.0  Hope-Hill  Howard  Midtown        63.0        51.0   \n",
       "\n",
       "        Area    Shape__Are    Shape__Len  ...  MS_Num  MS_Name MS_Address  \\\n",
       "14  1.992888  5.555852e+07  39666.012365  ...     NaN      NaN        NaN   \n",
       "\n",
       "   MS_City MS_Zip ClusterName DDP_MS_Name DDP_Rotation DDP_Page_Num  \\\n",
       "14     NaN    NaN         NaN         NaN          NaN          NaN   \n",
       "\n",
       "   Port_LS_Mode  \n",
       "14          NaN  \n",
       "\n",
       "[1 rows x 54 columns]"
      ]
     },
     "execution_count": 7,
     "metadata": {},
     "output_type": "execute_result"
    }
   ],
   "source": [
    "QualityEducation(33.749884, -84.379744, **kwargs).matching_area"
   ]
  }
 ],
 "metadata": {
  "kernelspec": {
   "display_name": "base",
   "language": "python",
   "name": "python3"
  },
  "language_info": {
   "codemirror_mode": {
    "name": "ipython",
    "version": 3
   },
   "file_extension": ".py",
   "mimetype": "text/x-python",
   "name": "python",
   "nbconvert_exporter": "python",
   "pygments_lexer": "ipython3",
   "version": "3.12.2"
  }
 },
 "nbformat": 4,
 "nbformat_minor": 5
}
