{
 "cells": [
  {
   "cell_type": "code",
   "execution_count": 1,
   "id": "2d5b5dd6",
   "metadata": {},
   "outputs": [],
   "source": [
    "import pandas as pd"
   ]
  },
  {
   "cell_type": "code",
   "execution_count": 9,
   "id": "6263e402",
   "metadata": {},
   "outputs": [
    {
     "data": {
      "text/plain": [
       "' kwargs = {\\n    # --- CommunityTransportationOptions ---\\n    \"stops_df\": pd.read_csv(\"data/transit_stops.csv\"),\\n    \"routes_df\": pd.read_csv(\"data/transit_routes.csv\"),\\n    \"dca_pool\": \"Metro\",\\n    \"transit_service_days\": 7,\\n    \"is_fixed_route\": True,\\n    \"is_site_owned_by_transit_agency\": False,\\n\\n    # --- DesirableUndesirableActivities ---\\n    \"is_rural\": False,\\n    \"desirable_csv\": \"data/desirable_amenities.csv\",\\n    \"grocery_csv\": \"data/grocery_stores.csv\",\\n    \"usda_csv\": \"data/usda_food_desert.csv\",\\n    \"tract_shapefile\": \"data/shapefiles/census_tracts.geojson\",\\n    \"undesirable_csv\": \"data/undesirable_activities.csv\",\\n\\n    # --- QualityEducation ---\\n    \"school_df\": pd.read_csv(\"data/processed/quality_edducation/Option_C_Scores_Eligibility_with_BTO.csv\"),\\n    \"state_avg_by_year\": {\\n        \"elementary\": {\\n            2018: 77.8,\\n            2019: 79.9\\n        },\\n        \"middle\": {\\n            2018: 76.2,\\n            2019: 77\\n        },\\n        \"high\": {\\n            2018: 75.3,\\n            2019: 78.8\\n        }\\n    },\\n\\n    # --- StableCommunities ---\\n    \"indicators_df\": pd.read_csv(\"data/community_indicators.csv\"),\\n\\n    # --- HousingNeedsCharacteristics ---\\n    \"census_tract_data\": {\\n        # GEOID: data for that census tract\\n        \"13089023300\": {\"severe_housing_problem\": 48},\\n        \"13089023400\": {\"severe_housing_problem\": 22}\\n    },\\n    \"county_data\": {\\n        \"ten_year_population_growth\": True,\\n        \"three_year_avg_growth_rate\": 1.6,\\n        \"employment_growth_rate\": 2.3\\n    },\\n    \"revitalization_score\": 4,\\n    \"in_qct\": False  # Required for housing need eligibility\\n} '"
      ]
     },
     "execution_count": 9,
     "metadata": {},
     "output_type": "execute_result"
    }
   ],
   "source": [
    "\"\"\" kwargs = {\n",
    "    # --- CommunityTransportationOptions ---\n",
    "    \"stops_df\": pd.read_csv(\"data/transit_stops.csv\"),\n",
    "    \"routes_df\": pd.read_csv(\"data/transit_routes.csv\"),\n",
    "    \"dca_pool\": \"Metro\",\n",
    "    \"transit_service_days\": 7,\n",
    "    \"is_fixed_route\": True,\n",
    "    \"is_site_owned_by_transit_agency\": False,\n",
    "\n",
    "    # --- DesirableUndesirableActivities ---\n",
    "    \"is_rural\": False,\n",
    "    \"desirable_csv\": \"data/desirable_amenities.csv\",\n",
    "    \"grocery_csv\": \"data/grocery_stores.csv\",\n",
    "    \"usda_csv\": \"data/usda_food_desert.csv\",\n",
    "    \"tract_shapefile\": \"data/shapefiles/census_tracts.geojson\",\n",
    "    \"undesirable_csv\": \"data/undesirable_activities.csv\",\n",
    "\n",
    "    # --- QualityEducation ---\n",
    "    \"school_df\": pd.read_csv(\"data/processed/quality_edducation/Option_C_Scores_Eligibility_with_BTO.csv\"),\n",
    "    \"state_avg_by_year\": {\n",
    "        \"elementary\": {\n",
    "            2018: 77.8,\n",
    "            2019: 79.9\n",
    "        },\n",
    "        \"middle\": {\n",
    "            2018: 76.2,\n",
    "            2019: 77\n",
    "        },\n",
    "        \"high\": {\n",
    "            2018: 75.3,\n",
    "            2019: 78.8\n",
    "        }\n",
    "    },\n",
    "\n",
    "    # --- StableCommunities ---\n",
    "    \"indicators_df\": pd.read_csv(\"data/community_indicators.csv\"),\n",
    "\n",
    "    # --- HousingNeedsCharacteristics ---\n",
    "    \"census_tract_data\": {\n",
    "        # GEOID: data for that census tract\n",
    "        \"13089023300\": {\"severe_housing_problem\": 48},\n",
    "        \"13089023400\": {\"severe_housing_problem\": 22}\n",
    "    },\n",
    "    \"county_data\": {\n",
    "        \"ten_year_population_growth\": True,\n",
    "        \"three_year_avg_growth_rate\": 1.6,\n",
    "        \"employment_growth_rate\": 2.3\n",
    "    },\n",
    "    \"revitalization_score\": 4,\n",
    "    \"in_qct\": False  # Required for housing need eligibility\n",
    "} \"\"\""
   ]
  },
  {
   "cell_type": "code",
   "execution_count": 2,
   "id": "58a298d3",
   "metadata": {},
   "outputs": [],
   "source": [
    "from aggregate_scoring import ScoringCriterion, QualityEducation"
   ]
  },
  {
   "cell_type": "code",
   "execution_count": 4,
   "id": "97af75a6",
   "metadata": {},
   "outputs": [],
   "source": [
    "kwargs = {\n",
    "    # --- QualityEducation ---\n",
    "    # \"school_df\": pd.read_csv(\"data/processed/scoring_indicators/quality_edducation/Option_C_Scores_Eligibility_with_BTO.csv\"),\n",
    "    \"school_df\": pd.read_csv(\"/Users/jichunzhao/Documents/qtm2025spring/qtm550spring2025_QSP/LIHTC-Project/data/processed/scoring_indicators/quality_education/Option_C_Scores_Eligibility_with_BTO.csv\"),\n",
    "    \"state_avg_by_year\": {\n",
    "        \"elementary\": {\n",
    "            2018: 77.8,\n",
    "            2019: 79.9\n",
    "        },\n",
    "        \"middle\": {\n",
    "            2018: 76.2,\n",
    "            2019: 77\n",
    "        },\n",
    "        \"high\": {\n",
    "            2018: 75.3,\n",
    "            2019: 78.8\n",
    "        }\n",
    "    }\n",
    "}"
   ]
  },
  {
   "cell_type": "code",
   "execution_count": 5,
   "id": "4121f829",
   "metadata": {},
   "outputs": [
    {
     "data": {
      "text/plain": [
       "0"
      ]
     },
     "execution_count": 5,
     "metadata": {},
     "output_type": "execute_result"
    }
   ],
   "source": [
    "QualityEducation(34.63278, -84.92806, **kwargs).calculate_score()"
   ]
  }
 ],
 "metadata": {
  "kernelspec": {
   "display_name": "base",
   "language": "python",
   "name": "python3"
  },
  "language_info": {
   "codemirror_mode": {
    "name": "ipython",
    "version": 3
   },
   "file_extension": ".py",
   "mimetype": "text/x-python",
   "name": "python",
   "nbconvert_exporter": "python",
   "pygments_lexer": "ipython3",
   "version": "3.12.2"
  }
 },
 "nbformat": 4,
 "nbformat_minor": 5
}
